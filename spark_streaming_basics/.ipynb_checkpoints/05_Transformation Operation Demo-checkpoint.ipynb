{
 "cells": [
  {
   "cell_type": "markdown",
   "metadata": {},
   "source": [
    "# Transformation Operation Demo"
   ]
  },
  {
   "cell_type": "markdown",
   "metadata": {},
   "source": [
    "The `transform` operation (along with its variations like `transformWith`) allows arbitrary RDD-to-RDD functions to be applied on a DStream. It can be used to apply any RDD operation that is not exposed in the DStream API. For example, the functionality of joining every batch in a data stream with another dataset is not directly exposed in the DStream API. However, you can easily use `transform to do` this. This enables very powerful possibilities. For example, one can do real-time data cleaning by joining the input data stream with precomputed spam information (maybe generated with Spark as well) and then filtering based on it.\n",
    "```python\n",
    "spamInfoRDD = sc.pickleFile(...)  # RDD containing spam information\n",
    "\n",
    "# join data stream with spam information to do data cleaning\n",
    "cleanedDStream = wordCounts.transform(lambda rdd: rdd.join(spamInfoRDD).filter(...))\n",
    "```\n",
    "Note that the supplied function gets called in every batch interval. This allows you to do time-varying RDD operations, that is, RDD operations, number of partitions, broadcast variables, etc. can be changed between batches.\n",
    "\n",
    "What is the benefit of it?\n"
   ]
  },
  {
   "cell_type": "markdown",
   "metadata": {},
   "source": [
    "### Demo\n"
   ]
  },
  {
   "cell_type": "code",
   "execution_count": null,
   "metadata": {
    "collapsed": true
   },
   "outputs": [],
   "source": [
    "from pyspark import SparkConf, SparkContext\n",
    "from pyspark.streaming import StreamingContext\n",
    "import sys\n",
    "import random\n",
    "from apache_log_parser import ApacheAccessLog\n",
    "\n",
    "random.seed(15)\n",
    "\n",
    "if len(sys.argv) != 2:\n",
    "    print('Please provide the path to Apache log file')\n",
    "    print('10_10.py <path_to_log_directory>')\n",
    "    sys.exit(2)\n",
    "\n",
    "conf = (SparkConf().setMaster(\"local[4]\").setAppName(\"log processor\").set(\"spark.executor.memory\", \"2g\"))\n",
    "\n",
    "sc = SparkContext(conf=conf)\n",
    "\n",
    "ssc = StreamingContext(sc, 2)\n",
    "ssc.checkpoint(\"checkpoint\")\n",
    " \n",
    "directory = sys.argv[1]\n",
    "print(directory)\n",
    "\n",
    "# create DStream from text file\n",
    "# Note: the spark streaming checks for any updates to this directory.\n",
    "# So first, start this program, and then copy the log file logs/access_log.log to 'directory' location\n",
    "\n",
    "log_data = ssc.textFileStream(directory)\n",
    "access_log_dstream = log_data.map(ApacheAccessLog.parse_from_log_line).filter(lambda parsed_line: parsed_line is not None)\n",
    "\n",
    "Implementing a transformed stream here using the `transform()` function\n",
    "def extractOutliers(rdd):\n",
    "    # Currently, no logic implemented\n",
    "    return rdd\n",
    "\n",
    "transformed_access_log_dstream = access_log_dstream.transform(extractOutliers)\n",
    "transformed_access_log_dstream.pprint()\n",
    "\n",
    "ssc.start() \n",
    "ssc.awaitTermination()"
   ]
  },
  {
   "cell_type": "markdown",
   "metadata": {},
   "source": [
    "## References\n",
    "1. https://spark.apache.org/docs/latest/streaming-programming-guide.html#transform-operation\n"
   ]
  },
  {
   "cell_type": "markdown",
   "metadata": {},
   "source": [
    " "
   ]
  }
 ],
 "metadata": {
  "kernelspec": {
   "display_name": "Python 3",
   "language": "python",
   "name": "python3"
  },
  "language_info": {
   "codemirror_mode": {
    "name": "ipython",
    "version": 3
   },
   "file_extension": ".py",
   "mimetype": "text/x-python",
   "name": "python",
   "nbconvert_exporter": "python",
   "pygments_lexer": "ipython3",
   "version": "3.6.3"
  }
 },
 "nbformat": 4,
 "nbformat_minor": 2
}
