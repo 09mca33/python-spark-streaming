{
 "cells": [
  {
   "cell_type": "markdown",
   "metadata": {},
   "source": [
    "# SQL Operations Demo"
   ]
  },
  {
   "cell_type": "markdown",
   "metadata": {},
   "source": [
    "One of the benefits of Spark is its support for SQL operations when it comes to streaming data. \n",
    "\n",
    "To do this, one first creates a `SparkSession` using the `SparkContext` that the `StreamingContext` is using. \n"
   ]
  },
  {
   "cell_type": "markdown",
   "metadata": {},
   "source": [
    "### Demo"
   ]
  },
  {
   "cell_type": "markdown",
   "metadata": {},
   "source": [
    "For this demonstration, we will be using Spark and SQL to analyze data from a table of data on Wikipedia Articles."
   ]
  },
  {
   "cell_type": "code",
   "execution_count": null,
   "metadata": {
    "collapsed": true
   },
   "outputs": [],
   "source": [
    "from pyspark import SparkContext\n",
    "from pyspark.streaming import StreamingContext\n",
    "from pyspark.sql import *\n",
    "from pyspark.sql import types\n",
    "import sys\n",
    "\n",
    "\n",
    "sc = SparkContext(\"local[2]\", appName=\"PythonSqlNetworkWordCount\")\n",
    "sqlContext = SQLContext(sc)\n",
    "lines = sc.textFile(sys.argv[1])\n",
    "lines = lines.map(lambda x: str(x.encode('utf-8')))\n",
    "lines = lines.map(lambda x: x.split(' ', 1))\n",
    "\n",
    "fields = [types.StructField(\"topic\", types.StringType(), True), types.StructField(\"title\", types.StringType(), True)]\n",
    "schema = types.StructType(fields)\n",
    "schemaTopics = sqlContext.createDataFrame(lines, schema)\n",
    "schemaTopics.registerTempTable(\"clusters\")\n",
    "\n",
    "def giveSparkSQLquery(input_topic):\n",
    "    input_topic = input_topic.collect()\n",
    "    if len(input_topic) > 0:\n",
    "        input_topic = input_topic[0]\n",
    "        query = \"SELECT title FROM clusters WHERE topic = '\" + input_topic + \"'\"\n",
    "        results = sqlContext.sql(query)\n",
    "        titles = results.map(lambda p: p.title)\n",
    "        for title in titles.collect():\n",
    "            print title\n",
    "\n",
    "ssc = StreamingContext(sc, 3)\n",
    "input_topic = ssc.socketTextStream(\"localhost\", int(sys.argv[2]))\n",
    "input_topic.foreachRDD(giveSparkSQLquery)\n",
    "ssc.start()\n",
    "ssc.awaitTermination()\n",
    "\n",
    "    "
   ]
  },
  {
   "cell_type": "markdown",
   "metadata": {},
   "source": [
    "## References\n",
    "1. https://spark.apache.org/docs/latest/streaming-programming-guide.html#dataframe-and-sql-operations\n",
    "2. https://spark.apache.org/docs/latest/sql-programming-guide.html"
   ]
  },
  {
   "cell_type": "markdown",
   "metadata": {},
   "source": [
    " "
   ]
  }
 ],
 "metadata": {
  "kernelspec": {
   "display_name": "Python 3",
   "language": "python",
   "name": "python3"
  },
  "language_info": {
   "codemirror_mode": {
    "name": "ipython",
    "version": 3
   },
   "file_extension": ".py",
   "mimetype": "text/x-python",
   "name": "python",
   "nbconvert_exporter": "python",
   "pygments_lexer": "ipython3",
   "version": "3.6.3"
  }
 },
 "nbformat": 4,
 "nbformat_minor": 2
}
