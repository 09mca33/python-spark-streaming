{
 "cells": [
  {
   "cell_type": "markdown",
   "metadata": {},
   "source": [
    "# Accumulators Exercise"
   ]
  },
  {
   "cell_type": "markdown",
   "metadata": {},
   "source": [
    "### Exercise"
   ]
  },
  {
   "cell_type": "code",
   "execution_count": null,
   "metadata": {
    "collapsed": true
   },
   "outputs": [],
   "source": [
    "import os\n",
    "import sys\n",
    "\n",
    "from pyspark import SparkContext\n",
    "from pyspark.streaming import StreamingContext\n",
    "from pyspark import AccumulatorParam  \n",
    "  \n",
    "#creating spark context   \n",
    "sc = SparkContext()  \n",
    "\n",
    "#Class of functions that will be fed into the accumulator  \n",
    "class DiffAccumulatorParam(AccumulatorParam):\n",
    "    #TODO: Define function that zeroes out values in a dictionary using a loop\n",
    "    def zero(self, value):  \n",
    "        dict1={}  \n",
    "        for i in range(0,len(value)): \n",
    "            dict1[i]=0  \n",
    "        return dict1\n",
    "    #TODO: Define function that adds corresponding values in a dictionary using a loop\n",
    "    def addInPlace(self, val1, val2):  \n",
    "        for i in val1.keys():\n",
    "            val1[i] += val2[i]  \n",
    "        return val1\n",
    "    \n",
    "#input vectors \n",
    "c = {1:10,2:20,3:30,4:40}  \n",
    "d = [{1:1,2:2,3:3,4:4},{1:2,2:3,3:4,4:1}]\n",
    "\n",
    "rdd1 = sc.parallelize(d)\n",
    " \n",
    "#TODO: Create an accumulator that takes in the DiffAccumulatorParam class\n",
    "va = sc.accumulator(c, DiffAccumulatorParam())  \n",
    "\n",
    "#action to be executed on rdd in order to diff vectors  \n",
    "def diff(x):  \n",
    "    global va  \n",
    "    va += {i:-y for i,y in x}  \n",
    "rdd1.foreach(diff)   \n",
    "\n",
    "#TODO: print the value of accumulator  \n",
    "print va.value \n",
    "\n",
    "host, port, checkpoint, output = sys.argv[1:]\n",
    "ssc = StreamingContext.getOrCreate(checkpoint,lambda: createContext(host, int(port), output))\n",
    "\n",
    "ssc.start()\n",
    "ssc.awaitTermination()"
   ]
  },
  {
   "cell_type": "markdown",
   "metadata": {},
   "source": [
    "## References\n",
    "1. https://spark.apache.org/docs/latest/streaming-programming-guide.html#accumulators-broadcast-variables-and-checkpoints"
   ]
  },
  {
   "cell_type": "markdown",
   "metadata": {},
   "source": [
    " "
   ]
  }
 ],
 "metadata": {
  "kernelspec": {
   "display_name": "Python 3",
   "language": "python",
   "name": "python3"
  },
  "language_info": {
   "codemirror_mode": {
    "name": "ipython",
    "version": 3
   },
   "file_extension": ".py",
   "mimetype": "text/x-python",
   "name": "python",
   "nbconvert_exporter": "python",
   "pygments_lexer": "ipython3",
   "version": "3.6.3"
  }
 },
 "nbformat": 4,
 "nbformat_minor": 2
}
