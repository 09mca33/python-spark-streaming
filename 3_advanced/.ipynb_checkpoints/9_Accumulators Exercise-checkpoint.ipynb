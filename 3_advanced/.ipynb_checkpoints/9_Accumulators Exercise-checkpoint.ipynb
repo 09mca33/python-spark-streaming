{
 "cells": [
  {
   "cell_type": "markdown",
   "metadata": {},
   "source": [
    "# Accumulators Exercise"
   ]
  },
  {
   "cell_type": "markdown",
   "metadata": {},
   "source": [
    "### Exercise"
   ]
  },
  {
   "cell_type": "code",
   "execution_count": null,
   "metadata": {},
   "outputs": [],
   "source": [
    "import findspark\n",
    "# TODO: your path will likely not have 'matthew' in it. Change it to reflect your path.\n",
    "findspark.init('/home/matthew/spark-2.1.0-bin-hadoop2.7')"
   ]
  },
  {
   "cell_type": "code",
   "execution_count": null,
   "metadata": {},
   "outputs": [],
   "source": [
    "import os\n",
    "import sys\n",
    "from pyspark import SparkContext\n",
    "from pyspark.streaming import StreamingContext\n",
    "from pyspark import AccumulatorParam"
   ]
  },
  {
   "cell_type": "code",
   "execution_count": null,
   "metadata": {},
   "outputs": [],
   "source": [
    "# creating spark context   \n",
    "sc = SparkContext() "
   ]
  },
  {
   "cell_type": "code",
   "execution_count": null,
   "metadata": {},
   "outputs": [],
   "source": [
    "#Class of functions that will be fed into the accumulator  \n",
    "class DiffAccumulatorParam(AccumulatorParam):\n",
    "    #TODO: Define function that zeroes out values in a dictionary using a loop\n",
    "    def zero(self, value): \n",
    "        \n",
    "        \n",
    "        \n",
    "    #### END OF THIS EXERCISE SECTION ###### \n",
    "    \n",
    "    #TODO: Define function that adds corresponding values in a dictionary using a loop\n",
    "    def addInPlace(self, val1, val2):  \n",
    "        \n",
    "        \n",
    "        \n",
    "    #### END OF THIS EXERCISE SECTION ###### "
   ]
  },
  {
   "cell_type": "code",
   "execution_count": null,
   "metadata": {},
   "outputs": [],
   "source": [
    "#input vectors \n",
    "c = {1:10,2:20,3:30,4:40}  \n",
    "d = [{1:1,2:2,3:3,4:4},{1:2,2:3,3:4,4:1}]\n",
    "\n",
    "rdd1 = sc.parallelize(d)\n",
    " \n",
    "#TODO: Create an accumulator, `va` that takes in the DiffAccumulatorParam class\n",
    "\n",
    "\n",
    "#### END OF THIS EXERCISE SECTION ###### "
   ]
  },
  {
   "cell_type": "code",
   "execution_count": null,
   "metadata": {
    "collapsed": true
   },
   "outputs": [],
   "source": [
    "#action to be executed on rdd in order to diff vectors  \n",
    "def diff(x):  \n",
    "    global va  \n",
    "    va += {i:-y for i,y in x}  \n",
    "rdd1.foreach(diff)   \n",
    "\n",
    "#TODO: print the value of accumulator  \n",
    "\n",
    "\n",
    "#### END OF THIS EXERCISE SECTION ###### "
   ]
  },
  {
   "cell_type": "code",
   "execution_count": null,
   "metadata": {},
   "outputs": [],
   "source": [
    "host = 'localhost'\n",
    "port = 8888\n",
    "# TODO: Change this path to reflect your own directory if you want to run this Exercise\n",
    "checkpoint = \"/home/matthew/pyspark-streaming/3_advanced/checkpoint\"\n",
    "output = \"/home/matthew/pyspark-streaming/3_advanced/output\"\n",
    "\n",
    "ssc = StreamingContext.getOrCreate(checkpoint, lambda: createContext(host, int(port), output))"
   ]
  },
  {
   "cell_type": "code",
   "execution_count": null,
   "metadata": {},
   "outputs": [],
   "source": [
    "ssc.start()"
   ]
  },
  {
   "cell_type": "code",
   "execution_count": null,
   "metadata": {},
   "outputs": [],
   "source": [
    "ssc.stop()"
   ]
  },
  {
   "cell_type": "markdown",
   "metadata": {},
   "source": [
    "## References\n",
    "1. https://spark.apache.org/docs/latest/streaming-programming-guide.html#accumulators-broadcast-variables-and-checkpoints"
   ]
  },
  {
   "cell_type": "markdown",
   "metadata": {},
   "source": [
    " "
   ]
  }
 ],
 "metadata": {
  "kernelspec": {
   "display_name": "Python 3",
   "language": "python",
   "name": "python3"
  },
  "language_info": {
   "codemirror_mode": {
    "name": "ipython",
    "version": 3
   },
   "file_extension": ".py",
   "mimetype": "text/x-python",
   "name": "python",
   "nbconvert_exporter": "python",
   "pygments_lexer": "ipython3",
   "version": "3.5.2"
  }
 },
 "nbformat": 4,
 "nbformat_minor": 2
}
