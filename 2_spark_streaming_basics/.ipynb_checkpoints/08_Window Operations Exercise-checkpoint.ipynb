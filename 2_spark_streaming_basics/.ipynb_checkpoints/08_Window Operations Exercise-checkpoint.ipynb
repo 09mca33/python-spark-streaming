{
 "cells": [
  {
   "cell_type": "markdown",
   "metadata": {},
   "source": [
    "# Window Operations Exercise"
   ]
  },
  {
   "cell_type": "markdown",
   "metadata": {},
   "source": [
    "1. What is Window Operations(better with some graphs)\n",
    "2. Explain parameters (window length and sliding interval)\n",
    "3. Some of the popular Window operations\n",
    "    * Window\n",
    "    * countByWindow\n",
    "    * reduceByKeyAndWindow\n",
    "    * countByValueAndWindow\n"
   ]
  },
  {
   "cell_type": "markdown",
   "metadata": {},
   "source": [
    "### Exercise"
   ]
  },
  {
   "cell_type": "code",
   "execution_count": null,
   "metadata": {
    "collapsed": true
   },
   "outputs": [],
   "source": [
    "from pyspark import SparkConf, SparkContext\n",
    "from pyspark.streaming import StreamingContext\n",
    "import sys\n",
    "import random\n",
    "from apache_log_parser import ApacheAccessLog\n",
    "\n",
    "random.seed(15)\n",
    "\n",
    "if len(sys.argv) != 2:\n",
    "    print('Please provide the path to Apache log file')\n",
    "    print('10_10.py <path_to_log_directory>')\n",
    "    sys.exit(2)\n",
    "\n",
    "conf = (SparkConf().setMaster(\"local[4]\").setAppName(\"log processor\").set(\"spark.executor.memory\", \"2g\"))\n",
    "\n",
    "sc = SparkContext(conf=conf)\n",
    "\n",
    "ssc = StreamingContext(sc, 2)\n",
    "ssc.checkpoint(\"checkpoint\")\n",
    " \n",
    "directory = sys.argv[1]\n",
    "print(directory)\n",
    "\n",
    "# create DStream from text file\n",
    "# Note: the spark streaming checks for any updates to this directory.\n",
    "# So first, start this program, and then copy the log file logs/access_log.log to 'directory' location\n",
    "log_data = ssc.textFileStream(directory)\n",
    "access_log_dstream = log_data.map(ApacheAccessLog.parse_from_log_line).filter(lambda parsed_line: parsed_line is not None)\n",
    "ip_dstream = access_log_dstream.map(lambda parsed_line: (parsed_line.ip, 1)) \n",
    "ip_count = ip_dstream.reduceByKey(lambda x,y: x+y)\n",
    "ip_count.pprint(num = 30)\n",
    "ip_bytes_dstream = access_log_dstream.map(lambda parsed_line: (parsed_line.ip, parsed_line.content_size))\n",
    "ip_bytes_sum_dstream = ip_bytes_dstream.reduceByKey(lambda x,y: x+y)\n",
    "ip_bytes_request_count_dstream = ip_count.join(ip_bytes_sum_dstream)\n",
    "ip_bytes_request_count_dstream.pprint(num = 30)\n",
    "\n",
    "####### TODO: use window()to count data over a window ##########################\n",
    "\n",
    "\n",
    "\n",
    "####### Exercise End ##########################################################\n",
    "\n",
    "ssc.start() \n",
    "ssc.awaitTermination()\n"
   ]
  },
  {
   "cell_type": "markdown",
   "metadata": {},
   "source": [
    "## References\n",
    "1. https://spark.apache.org/docs/latest/streaming-programming-guide.html#discretized-streams-dstreams"
   ]
  },
  {
   "cell_type": "markdown",
   "metadata": {},
   "source": [
    " "
   ]
  }
 ],
 "metadata": {
  "kernelspec": {
   "display_name": "Python 3",
   "language": "python",
   "name": "python3"
  },
  "language_info": {
   "codemirror_mode": {
    "name": "ipython",
    "version": 3
   },
   "file_extension": ".py",
   "mimetype": "text/x-python",
   "name": "python",
   "nbconvert_exporter": "python",
   "pygments_lexer": "ipython3",
   "version": "3.6.3"
  }
 },
 "nbformat": 4,
 "nbformat_minor": 2
}
