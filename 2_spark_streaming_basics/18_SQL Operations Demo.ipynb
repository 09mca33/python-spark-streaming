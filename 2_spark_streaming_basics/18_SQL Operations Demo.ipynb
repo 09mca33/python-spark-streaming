{
 "cells": [
  {
   "cell_type": "markdown",
   "metadata": {},
   "source": [
    "# SQL Operations Demo"
   ]
  },
  {
   "cell_type": "markdown",
   "metadata": {},
   "source": [
    "One of the benefits of Spark is its support for SQL operations when it comes to streaming data. \n",
    "\n",
    "To do this, one first creates a `SparkSession` using the `SparkContext` that the `StreamingContext` is using. \n"
   ]
  },
  {
   "cell_type": "markdown",
   "metadata": {},
   "source": [
    "### Demo"
   ]
  },
  {
   "cell_type": "markdown",
   "metadata": {},
   "source": [
    "For this demonstration, we will be using Spark and SQL to analyze data from a DStream."
   ]
  },
  {
   "cell_type": "code",
   "execution_count": null,
   "metadata": {
    "collapsed": true
   },
   "outputs": [],
   "source": [
    "import sys\n",
    "from pyspark import SparkContext\n",
    "from pyspark.streaming import StreamingContext\n",
    "from pyspark.sql import Row, SparkSession\n",
    "\n",
    "\n",
    "if len(sys.argv) != 3:\n",
    "    print(\"Usage: sql_network_wordcount.py <hostname> <port> \", file=sys.stderr)\n",
    "    exit(-1)\n",
    "host, port = sys.argv[1:]\n",
    "sc = SparkContext(appName=\"PythonSqlNetworkWordCount\")\n",
    "ssc = StreamingContext(sc, 1)\n",
    "\n",
    "lines = ssc.socketTextStream(host, int(port))\n",
    "words = lines.flatMap(lambda line: re.split(' ', line.lower().strip()))\n",
    "   \n",
    "# The section below is for converting RDDs of the words DStream to DataFrame and run SQL query\n",
    "def analyze(time, rdd):\n",
    "    print(\"========= %s =========\" % str(time))\n",
    "    try:            \n",
    "        # words of more than three characters\n",
    "        rdd = rdd.filter(lambda x: len(x)>3)\n",
    "        rdd.collect()\n",
    "\n",
    "        # 1 count per word\n",
    "        rdd = rdd.map(lambda w:(w,1))\n",
    "        words_df = sqlContext.createDataFrame(rdd,['word','count'])\n",
    "        words_df.show()\n",
    "\n",
    "        # replace punctuation\n",
    "        df_transformed = words_df.select(lower(trim(regexp_replace(col('word'),r'[.,\\/#$%^&*()-_+=~!\"\\s]*',''))).alias('keywords'))\n",
    "\n",
    "        # Print the top 250 words\n",
    "        top_words = sqlContext.createDataFrame(df_transformed.groupby('keywords').count().sort(desc('count')).take(251))\n",
    "        top_words.pprint()\n",
    "\n",
    "    except:\n",
    "        pass\n",
    "\n",
    "words.foreachRDD(analyze)\n",
    "ssc.start()\n",
    "ssc.awaitTermination()"
   ]
  },
  {
   "cell_type": "markdown",
   "metadata": {},
   "source": [
    "## References\n",
    "1. https://spark.apache.org/docs/latest/streaming-programming-guide.html#dataframe-and-sql-operations\n",
    "2. https://spark.apache.org/docs/latest/sql-programming-guide.html"
   ]
  },
  {
   "cell_type": "markdown",
   "metadata": {},
   "source": [
    " "
   ]
  }
 ],
 "metadata": {
  "kernelspec": {
   "display_name": "Python 3",
   "language": "python",
   "name": "python3"
  },
  "language_info": {
   "codemirror_mode": {
    "name": "ipython",
    "version": 3
   },
   "file_extension": ".py",
   "mimetype": "text/x-python",
   "name": "python",
   "nbconvert_exporter": "python",
   "pygments_lexer": "ipython3",
   "version": "3.6.3"
  }
 },
 "nbformat": 4,
 "nbformat_minor": 2
}
